{
 "cells": [
  {
   "cell_type": "code",
   "execution_count": 1,
   "metadata": {},
   "outputs": [],
   "source": [
    "#Dependancies\n",
    "#(this block assumes you've set your mysql password in a config.py folder as a variable named mypass)\n",
    "\n",
    "import pandas as pd\n",
    "\n",
    "from sqlalchemy import create_engine\n",
    "from sqlalchemy import Column, Integer, String, Float\n",
    "from sqlalchemy.ext.declarative import declarative_base\n",
    "Base = declarative_base()\n",
    "\n",
    "# PyMySQL \n",
    "import pymysql\n",
    "pymysql.install_as_MySQLdb()\n",
    "\n",
    "from config import mypass"
   ]
  },
  {
   "cell_type": "code",
   "execution_count": 2,
   "metadata": {},
   "outputs": [],
   "source": [
    "#Establishes a connection with the sqlite database\n",
    "\n",
    "engine = create_engine('sqlite:///Resources/SMM.db')\n",
    "Base.metadata.create_all(engine)"
   ]
  },
  {
   "cell_type": "code",
   "execution_count": 3,
   "metadata": {},
   "outputs": [],
   "source": [
    "#Converts sqlite data into Pandas dataframes\n",
    "\n",
    "levelsDB = pd.read_sql_query('select * from levels', con=engine)\n",
    "authorsDB = pd.read_sql_query('select * from authors', con=engine)"
   ]
  },
  {
   "cell_type": "code",
   "execution_count": 4,
   "metadata": {},
   "outputs": [],
   "source": [
    "#Renames columns for merging\n",
    "\n",
    "levelsDB_rn = levelsDB.rename(columns={\"id\": \"level_id\",\n",
    "                                       \"name\": \"level_name\"})\n",
    "\n",
    "authorsDB_rn = authorsDB.rename(columns={\"id\": \"author_id\",\n",
    "                                       \"name\": \"author_name\"})"
   ]
  },
  {
   "cell_type": "code",
   "execution_count": 5,
   "metadata": {},
   "outputs": [],
   "source": [
    "#Creates new DBs for levels and authors that only uses the columns we need from each\n",
    "\n",
    "levelsDB_trn = levelsDB_rn[[\"theme\", \"difficulty\", \"tag\", \"liked\", \"played\", \"shared\", \"clear_rate\",\n",
    "                           \"tries_taken\", \"tries_success\", \"author_id\"]].copy()\n",
    "\n",
    "authorsDB_trn = authorsDB_rn[[\"author_id\", \"medals\", \"country\"]].copy()"
   ]
  },
  {
   "cell_type": "code",
   "execution_count": 6,
   "metadata": {},
   "outputs": [],
   "source": [
    "# Set index for each table to be identical\n",
    "\n",
    "levelsDB_trn.set_index(\"author_id\", inplace=True)\n",
    "\n",
    "authorsDB_trn.set_index(\"author_id\", inplace=True)"
   ]
  },
  {
   "cell_type": "code",
   "execution_count": 7,
   "metadata": {},
   "outputs": [],
   "source": [
    "#Creates a merged table of all the mario maker data we need\n",
    "\n",
    "merge_mario = pd.merge(authorsDB_trn, levelsDB_trn, on=\"author_id\")\n",
    "clean_mario = merge_mario.dropna()\n",
    "clean_mario_trn = clean_mario[[\"medals\", \"country\", \"liked\", \"played\"]].copy()"
   ]
  },
  {
   "cell_type": "code",
   "execution_count": 8,
   "metadata": {},
   "outputs": [],
   "source": [
    "#Creates a table with values for number of levels per country for later use\n",
    "\n",
    "level_counts = clean_mario_trn[\"country\"].value_counts().tolist()\n",
    "level_countries = clean_mario_trn[\"country\"].value_counts().index.tolist()\n",
    "\n",
    "level_list = pd.DataFrame({'country' : level_countries,\n",
    " 'total_levels' : level_counts\n",
    "  })\n",
    "level_list.set_index(\"country\", inplace=True)"
   ]
  },
  {
   "cell_type": "code",
   "execution_count": 9,
   "metadata": {},
   "outputs": [],
   "source": [
    "#Aggregates and renames data for better readability\n",
    "\n",
    "mario_countries = clean_mario_trn.groupby(clean_mario_trn['country']).aggregate({'medals': 'sum', 'liked': 'sum', 'played': 'sum'})\n",
    "\n",
    "mario_countries_rn = mario_countries.rename(columns={\"medals\": \"total_medals\",\n",
    "                                       \"liked\": \"total_likes\",\n",
    "                                                    \"played\": \"total_plays\"})"
   ]
  },
  {
   "cell_type": "code",
   "execution_count": 10,
   "metadata": {},
   "outputs": [],
   "source": [
    "#Merges in the values from the 'number of levels' table created earlier\n",
    "\n",
    "merge_mario_countries = pd.merge(mario_countries_rn, level_list, on=\"country\")"
   ]
  },
  {
   "cell_type": "code",
   "execution_count": 11,
   "metadata": {},
   "outputs": [],
   "source": [
    "#Brings in the json file as a pandas dataframe\n",
    "\n",
    "country_codes = pd.read_json('Resources/country_codes.json')"
   ]
  },
  {
   "cell_type": "code",
   "execution_count": 12,
   "metadata": {},
   "outputs": [],
   "source": [
    "#Renames columns in both dataframes to make them compatible\n",
    "\n",
    "country_codes = country_codes.rename(columns={\"Name\": \"country\",\n",
    "                                                \"Code\": \"country_abv\"})\n",
    "country_codes.set_index(\"country_abv\", inplace=True)\n",
    "\n",
    "merge_mario_countries.index.name = \"country_abv\""
   ]
  },
  {
   "cell_type": "code",
   "execution_count": 13,
   "metadata": {},
   "outputs": [],
   "source": [
    "#Merges our two tables to create a new table with translated abbreviations\n",
    "\n",
    "mario_codes = pd.merge(country_codes, merge_mario_countries, on=\"country_abv\")"
   ]
  },
  {
   "cell_type": "code",
   "execution_count": 14,
   "metadata": {},
   "outputs": [],
   "source": [
    "#Reads in the population csv as a pandas dataframe\n",
    "\n",
    "population_df = pd.read_csv('Resources/popNIndex.csv')"
   ]
  },
  {
   "cell_type": "code",
   "execution_count": 15,
   "metadata": {},
   "outputs": [],
   "source": [
    "#Removes the columns we don't need from our population dataframe\n",
    "\n",
    "population_df = population_df[[\"Country\", \"Population\", \"Consumer_price_index\"]]"
   ]
  },
  {
   "cell_type": "code",
   "execution_count": 16,
   "metadata": {},
   "outputs": [],
   "source": [
    "#Renames columns for merge compatability and to fit with lowercase styling\n",
    "\n",
    "population_df = population_df.rename(columns={\"Country\": \"country\",\n",
    "                                              \"Population\": \"population\",\n",
    "                                              \"Consumer_price_index\": \"consumer_price_index\"})"
   ]
  },
  {
   "cell_type": "code",
   "execution_count": 17,
   "metadata": {},
   "outputs": [],
   "source": [
    "#Merges in the population data with the mario data, but is now missing the country abbreviations\n",
    "\n",
    "semifinal_mario = pd.merge(population_df, mario_codes, on=\"country\")"
   ]
  },
  {
   "cell_type": "code",
   "execution_count": 18,
   "metadata": {},
   "outputs": [],
   "source": [
    "#Re-reads and renames the country_codes csv, resetting the earlier changes\n",
    "\n",
    "country_codes = pd.read_json('Resources/country_codes.json')\n",
    "\n",
    "country_codes = country_codes.rename(columns={\"Name\": \"country\",\n",
    "                                                \"Code\": \"country_abv\"})"
   ]
  },
  {
   "cell_type": "code",
   "execution_count": 19,
   "metadata": {},
   "outputs": [],
   "source": [
    "#Merges in the country abbreviations from country_codes\n",
    "\n",
    "final_mario = pd.merge(semifinal_mario, country_codes, on=\"country\")"
   ]
  },
  {
   "cell_type": "code",
   "execution_count": 20,
   "metadata": {},
   "outputs": [],
   "source": [
    "#Re-organizes the order of the columns for better readability\n",
    "\n",
    "final_mario = final_mario[[\"country\", \"country_abv\", \"population\", \"consumer_price_index\",\n",
    "                         \"total_medals\", \"total_likes\", \"total_plays\", \"total_levels\"]]"
   ]
  },
  {
   "cell_type": "code",
   "execution_count": 21,
   "metadata": {},
   "outputs": [],
   "source": [
    "#Drops duplicate country entries, keeping the ones with higher population as those are likely more recent\n",
    "\n",
    "final_mario = final_mario.sort_values(by=[\"population\"], ascending=False)\n",
    "final_mario = final_mario.drop_duplicates(subset='country',keep='last')"
   ]
  },
  {
   "cell_type": "code",
   "execution_count": 22,
   "metadata": {},
   "outputs": [],
   "source": [
    "#Resets the final dataframe to be sorted by index again\n",
    "\n",
    "final_mario = final_mario.sort_index()"
   ]
  },
  {
   "cell_type": "code",
   "execution_count": 25,
   "metadata": {},
   "outputs": [],
   "source": [
    "final_mario.to_csv(\"marioData.csv\")"
   ]
  },
  {
   "cell_type": "code",
   "execution_count": null,
   "metadata": {},
   "outputs": [],
   "source": [
    "#Establishes a connection to the mysql database\n",
    "#(this block assumes you've created a mario_db database in mysql)\n",
    "\n",
    "connection_string = f\"root:{mypass}@localhost/mario_db\"\n",
    "engine = create_engine(f'mysql://{connection_string}')"
   ]
  },
  {
   "cell_type": "code",
   "execution_count": null,
   "metadata": {},
   "outputs": [],
   "source": [
    "#Pushes the finished mario dataframe to the mysql database as a table\n",
    "\n",
    "final_mario.to_sql(name='mario_table',\\\n",
    "                           con=engine, if_exists='append', index=False)"
   ]
  }
 ],
 "metadata": {
  "kernelspec": {
   "display_name": "Python 3",
   "language": "python",
   "name": "python3"
  },
  "language_info": {
   "codemirror_mode": {
    "name": "ipython",
    "version": 3
   },
   "file_extension": ".py",
   "mimetype": "text/x-python",
   "name": "python",
   "nbconvert_exporter": "python",
   "pygments_lexer": "ipython3",
   "version": "3.6.5"
  }
 },
 "nbformat": 4,
 "nbformat_minor": 2
}
